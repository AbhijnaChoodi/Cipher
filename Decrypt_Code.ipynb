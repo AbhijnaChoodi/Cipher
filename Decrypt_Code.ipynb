{
  "nbformat": 4,
  "nbformat_minor": 0,
  "metadata": {
    "colab": {
      "provenance": [],
      "authorship_tag": "ABX9TyOTePPeghhqGxGbWzApKOqF",
      "include_colab_link": true
    },
    "kernelspec": {
      "name": "python3",
      "display_name": "Python 3"
    },
    "language_info": {
      "name": "python"
    }
  },
  "cells": [
    {
      "cell_type": "markdown",
      "metadata": {
        "id": "view-in-github",
        "colab_type": "text"
      },
      "source": [
        "<a href=\"https://colab.research.google.com/github/AbhijnaChoodi/Cipher/blob/main/Decrypt_Code.ipynb\" target=\"_parent\"><img src=\"https://colab.research.google.com/assets/colab-badge.svg\" alt=\"Open In Colab\"/></a>"
      ]
    },
    {
      "cell_type": "markdown",
      "source": [
        "Had to decipher this series of numbers"
      ],
      "metadata": {
        "id": "JgcFj9INqxLR"
      }
    },
    {
      "cell_type": "code",
      "execution_count": null,
      "metadata": {
        "id": "9fQY_MfqOsID"
      },
      "outputs": [],
      "source": [
        "import pandas as pd\n",
        "import numpy as np"
      ]
    },
    {
      "cell_type": "code",
      "source": [
        "x = '''422627312313271342343623\n",
        "131918252544132741343644\n",
        "134226273823132131343826\n",
        "233713243436133244133836\n",
        "343826161227132227223314\n",
        "381342183338133834133227\n",
        "373713324413342222371324\n",
        "343613382618381319312318\n",
        "291342183632133823363618\n",
        "273312322745183315133826\n",
        "234413371844133127412322\n",
        "133826233623133933222336\n",
        "133826231337393314371336\n",
        "232725331238262313363931\n",
        "233613342413382634372313\n",
        "243139272213371833223715\n",
        "133826231332183738233613\n",
        "342413382618381332443738\n",
        "272118311331183322123826\n",
        "234413371844133433314413\n",
        "313437381338361841233123\n",
        "363713261822133723233313\n",
        "262336131944132126183321\n",
        "2316'''"
      ],
      "metadata": {
        "id": "wqb-yLG5O0B6"
      },
      "execution_count": null,
      "outputs": []
    },
    {
      "cell_type": "code",
      "source": [
        "lines = []\n",
        "for i in x.split('\\n'):\n",
        "  lines.append(i)\n",
        "\n",
        "print(lines[1])"
      ],
      "metadata": {
        "colab": {
          "base_uri": "https://localhost:8080/"
        },
        "id": "PzI-tE9aPF6b",
        "outputId": "08f30791-23c7-4143-dd39-7d169a103d4f"
      },
      "execution_count": null,
      "outputs": [
        {
          "output_type": "stream",
          "name": "stdout",
          "text": [
            "131918252544132741343644\n"
          ]
        }
      ]
    },
    {
      "cell_type": "code",
      "source": [
        "letters = []\n",
        "\n",
        "clean_string = x.replace(\" \", \"\").replace(\"\\n\", \"\")\n",
        "\n",
        "for k in range(0,len(clean_string),2):\n",
        "  number =0\n",
        "\n",
        "  number = int(clean_string[k])*10 + int(clean_string[k+1])\n",
        "\n",
        "  letters.append(number)\n",
        "\n",
        "  if k+1==len(clean_string)-1:\n",
        "    break;\n",
        "\n",
        "\n",
        "print(letters)"
      ],
      "metadata": {
        "colab": {
          "base_uri": "https://localhost:8080/"
        },
        "id": "dpRPdhTIPnBO",
        "outputId": "e2f90e7b-f44a-4679-8259-aff3af7bbc95"
      },
      "execution_count": null,
      "outputs": [
        {
          "output_type": "stream",
          "name": "stdout",
          "text": [
            "[42, 26, 27, 31, 23, 13, 27, 13, 42, 34, 36, 23, 13, 19, 18, 25, 25, 44, 13, 27, 41, 34, 36, 44, 13, 42, 26, 27, 38, 23, 13, 21, 31, 34, 38, 26, 23, 37, 13, 24, 34, 36, 13, 32, 44, 13, 38, 36, 34, 38, 26, 16, 12, 27, 13, 22, 27, 22, 33, 14, 38, 13, 42, 18, 33, 38, 13, 38, 34, 13, 32, 27, 37, 37, 13, 32, 44, 13, 34, 22, 22, 37, 13, 24, 34, 36, 13, 38, 26, 18, 38, 13, 19, 31, 23, 18, 29, 13, 42, 18, 36, 32, 13, 38, 23, 36, 36, 18, 27, 33, 12, 32, 27, 45, 18, 33, 15, 13, 38, 26, 23, 44, 13, 37, 18, 44, 13, 31, 27, 41, 23, 22, 13, 38, 26, 23, 36, 23, 13, 39, 33, 22, 23, 36, 13, 38, 26, 23, 13, 37, 39, 33, 14, 37, 13, 36, 23, 27, 25, 33, 12, 38, 26, 23, 13, 36, 39, 31, 23, 36, 13, 34, 24, 13, 38, 26, 34, 37, 23, 13, 24, 31, 39, 27, 22, 13, 37, 18, 33, 22, 37, 15, 13, 38, 26, 23, 13, 32, 18, 37, 38, 23, 36, 13, 34, 24, 13, 38, 26, 18, 38, 13, 32, 44, 37, 38, 27, 21, 18, 31, 13, 31, 18, 33, 22, 12, 38, 26, 23, 44, 13, 37, 18, 44, 13, 34, 33, 31, 44, 13, 31, 34, 37, 38, 13, 38, 36, 18, 41, 23, 31, 23, 36, 37, 13, 26, 18, 22, 13, 37, 23, 23, 33, 13, 26, 23, 36, 13, 19, 44, 13, 21, 26, 18, 33, 21, 23, 16]\n"
          ]
        }
      ]
    },
    {
      "cell_type": "code",
      "source": [
        "from collections import Counter\n",
        "frequency = Counter(letters)\n",
        "\n",
        "# Print frequency list as a vertical column\n",
        "for num, freq in sorted(frequency.items()):\n",
        "    print(f\"{num}: {freq}\")"
      ],
      "metadata": {
        "colab": {
          "base_uri": "https://localhost:8080/"
        },
        "id": "F1TJorIfS5gL",
        "outputId": "c43118e5-b412-4f06-efd9-ab8218aeb7eb"
      },
      "execution_count": null,
      "outputs": [
        {
          "output_type": "stream",
          "name": "stdout",
          "text": [
            "12: 4\n",
            "13: 48\n",
            "14: 2\n",
            "15: 2\n",
            "16: 2\n",
            "18: 17\n",
            "19: 3\n",
            "21: 4\n",
            "22: 10\n",
            "23: 25\n",
            "24: 5\n",
            "25: 3\n",
            "26: 16\n",
            "27: 13\n",
            "29: 1\n",
            "31: 11\n",
            "32: 7\n",
            "33: 12\n",
            "34: 13\n",
            "36: 17\n",
            "37: 16\n",
            "38: 23\n",
            "39: 4\n",
            "41: 3\n",
            "42: 5\n",
            "44: 11\n",
            "45: 1\n"
          ]
        }
      ]
    },
    {
      "cell_type": "code",
      "source": [
        "positions = [index for index, value in enumerate(letters) if value == 45]\n",
        "\n",
        "# Print the positions\n",
        "print(positions)"
      ],
      "metadata": {
        "colab": {
          "base_uri": "https://localhost:8080/"
        },
        "id": "9WdpYil5Tv0q",
        "outputId": "4bee2df9-a1be-4104-8c33-076ca9320629"
      },
      "execution_count": null,
      "outputs": [
        {
          "output_type": "stream",
          "name": "stdout",
          "text": [
            "[113]\n"
          ]
        }
      ]
    },
    {
      "cell_type": "code",
      "source": [
        "print(len(frequency))"
      ],
      "metadata": {
        "colab": {
          "base_uri": "https://localhost:8080/"
        },
        "id": "a-1ofF_3VyXi",
        "outputId": "06b2b510-5fe1-47c5-bd16-2170bd11d9b4"
      },
      "execution_count": null,
      "outputs": [
        {
          "output_type": "stream",
          "name": "stdout",
          "text": [
            "27\n"
          ]
        }
      ]
    },
    {
      "cell_type": "code",
      "source": [
        "result = []\n",
        "\n",
        "for i in range(1, len(letters)-1):  # Start from 1, end at len-1 to avoid out-of-bounds\n",
        "    if letters[i-1] == 13 and letters[i+1] == 13:\n",
        "        result.append((letters[i], i))\n",
        "\n",
        "print(result)\n"
      ],
      "metadata": {
        "colab": {
          "base_uri": "https://localhost:8080/"
        },
        "id": "IMAkaXUUcQIs",
        "outputId": "2b78a76c-8c8b-4637-abb0-3bedc3f4f94b"
      },
      "execution_count": null,
      "outputs": [
        {
          "output_type": "stream",
          "name": "stdout",
          "text": [
            "[(27, 6)]\n"
          ]
        }
      ]
    },
    {
      "cell_type": "code",
      "source": [
        "sequence = [13, 27, 13]\n",
        "count = 0\n",
        "\n",
        "# Loop through the list and check for the sequence\n",
        "for i in range(len(letters) - len(sequence) + 1):\n",
        "    if letters[i:i + len(sequence)] == sequence:\n",
        "        count += 1\n",
        "\n",
        "print(count)\n"
      ],
      "metadata": {
        "colab": {
          "base_uri": "https://localhost:8080/"
        },
        "id": "0ugSk3acc3fo",
        "outputId": "291d4d85-c55d-4cd3-c79d-56818ad7a214"
      },
      "execution_count": null,
      "outputs": [
        {
          "output_type": "stream",
          "name": "stdout",
          "text": [
            "1\n"
          ]
        }
      ]
    },
    {
      "cell_type": "code",
      "source": [
        "# Initialize an empty list to store the values between 13s\n",
        "numbers_between_13s = []\n",
        "\n",
        "# Iterate through the list to find 13s and extract the 3 numbers between them\n",
        "for i in range(len(letters) - 4):  # len(sequence) - 1, plus 3 numbers in between\n",
        "    if letters[i] == 13 and letters[i + 4] == 13:\n",
        "        numbers_between_13s.append(tuple(letters[i + 1:i + 4]))\n",
        "\n",
        "# Count the frequency of each instance\n",
        "frequency = Counter(numbers_between_13s)\n",
        "\n",
        "# Print the frequencies\n",
        "for sequence, count in frequency.items():\n",
        "    print(f\"Sequence {sequence} occurs {count} times\")"
      ],
      "metadata": {
        "colab": {
          "base_uri": "https://localhost:8080/"
        },
        "id": "pdTBC638dh1x",
        "outputId": "69d2a957-c47b-423a-97ae-ae63b2b24a98"
      },
      "execution_count": null,
      "outputs": [
        {
          "output_type": "stream",
          "name": "stdout",
          "text": [
            "Sequence (24, 34, 36) occurs 2 times\n",
            "Sequence (37, 18, 44) occurs 2 times\n",
            "Sequence (38, 26, 23) occurs 2 times\n",
            "Sequence (26, 18, 22) occurs 1 times\n",
            "Sequence (26, 23, 36) occurs 1 times\n"
          ]
        }
      ]
    },
    {
      "cell_type": "code",
      "source": [
        "numbers_between_13s = []\n",
        "\n",
        "# Iterate through the list to find 13s and extract the 2 numbers between them\n",
        "for i in range(len(letters) - 3):  # len(sequence) - 1, plus 2 numbers in between\n",
        "    if letters[i] == 13 and letters[i + 3] == 13:\n",
        "        numbers_between_13s.append(tuple(letters[i + 1:i + 3]))\n",
        "\n",
        "# Count the frequency of each instance\n",
        "frequency = Counter(numbers_between_13s)\n",
        "\n",
        "# Print the frequencies\n",
        "for sequence, count in frequency.items():\n",
        "    print(f\"Sequence {sequence} occurs {count} times\")"
      ],
      "metadata": {
        "colab": {
          "base_uri": "https://localhost:8080/"
        },
        "id": "MRtLgUytgq1R",
        "outputId": "8819bd6b-65fe-46d1-ba97-3521efd05492"
      },
      "execution_count": null,
      "outputs": [
        {
          "output_type": "stream",
          "name": "stdout",
          "text": [
            "Sequence (32, 44) occurs 2 times\n",
            "Sequence (38, 34) occurs 1 times\n",
            "Sequence (34, 24) occurs 2 times\n",
            "Sequence (19, 44) occurs 1 times\n"
          ]
        }
      ]
    },
    {
      "cell_type": "code",
      "source": [
        "# Initialize an empty list to store the values between 13s\n",
        "numbers_between_13s = []\n",
        "\n",
        "# Set of numbers to look for between the 13s\n",
        "target_numbers = {12, 14, 15, 16}\n",
        "\n",
        "# Iterate through the list to find 13s and check for target numbers between them\n",
        "for i in range(len(letters) - 1):\n",
        "    if letters[i] == 13:\n",
        "        # Find the next 13\n",
        "        for j in range(i + 1, len(letters)):\n",
        "            if letters[j] == 13:\n",
        "                # Extract the numbers between the two 13s\n",
        "                numbers_between = letters[i + 1:j]\n",
        "                # Check if any target numbers are present in the sequence\n",
        "                if any(num in target_numbers for num in numbers_between):\n",
        "                    numbers_between_13s.append(tuple(numbers_between))\n",
        "                break  # Once the next 13 is found, stop and move to the next 13\n",
        "\n",
        "# Count the frequency of each sequence\n",
        "frequency = Counter(numbers_between_13s)\n",
        "\n",
        "# Print the frequencies\n",
        "for sequence, count in frequency.items():\n",
        "    print(f\"Sequence {sequence} occurs {count} times\")"
      ],
      "metadata": {
        "colab": {
          "base_uri": "https://localhost:8080/"
        },
        "id": "2atyQvsJiM5E",
        "outputId": "f9c5384a-337a-493a-8118-31348d7632aa"
      },
      "execution_count": null,
      "outputs": [
        {
          "output_type": "stream",
          "name": "stdout",
          "text": [
            "Sequence (38, 36, 34, 38, 26, 16, 12, 27) occurs 1 times\n",
            "Sequence (22, 27, 22, 33, 14, 38) occurs 1 times\n",
            "Sequence (38, 23, 36, 36, 18, 27, 33, 12, 32, 27, 45, 18, 33, 15) occurs 1 times\n",
            "Sequence (37, 39, 33, 14, 37) occurs 1 times\n",
            "Sequence (36, 23, 27, 25, 33, 12, 38, 26, 23) occurs 1 times\n",
            "Sequence (37, 18, 33, 22, 37, 15) occurs 1 times\n",
            "Sequence (31, 18, 33, 22, 12, 38, 26, 23, 44) occurs 1 times\n"
          ]
        }
      ]
    },
    {
      "cell_type": "code",
      "source": [
        "key_dict = {\n",
        "    18: 'a',\n",
        "    19: 'b',\n",
        "    21: 'c',\n",
        "    22: 'd',\n",
        "    23: 'e',\n",
        "    24: 'f',\n",
        "    25: 'g',\n",
        "    26: 'h',\n",
        "    27: 'i',\n",
        "    28: 'j',\n",
        "    29: 'k',\n",
        "    31: 'l',\n",
        "    32: 'm',\n",
        "    33: 'n',\n",
        "    34: 'o',\n",
        "    36: 'r',\n",
        "    37: 's',\n",
        "    38: 't',\n",
        "    39: 'u',\n",
        "    41: 'v',\n",
        "    42: 'w',\n",
        "    43: 'x',\n",
        "    44: 'y',\n",
        "    45: 'z',\n",
        "    16:'.',\n",
        "    14:'\\'',\n",
        "    15:',',\n",
        "    12: ' - ',\n",
        "    13: ' '\n",
        "\n",
        "}\n",
        "\n",
        "paragraph = ''.join([key_dict[num] for num in letters])\n",
        "\n",
        "# Print the result\n",
        "print(paragraph)"
      ],
      "metadata": {
        "colab": {
          "base_uri": "https://localhost:8080/"
        },
        "id": "h2i4rvOUnLEF",
        "outputId": "60a62dc7-f077-473b-ce62-39615615526b"
      },
      "execution_count": null,
      "outputs": [
        {
          "output_type": "stream",
          "name": "stdout",
          "text": [
            "while i wore baggy ivory white clothes for my troth. - i didn't want to miss my odds for that bleak warm terrain - mizan, they say lived there under the sun's reign - the ruler of those fluid sands, the master of that mystical land - they say only lost travelers had seen her by chance.\n"
          ]
        }
      ]
    }
  ]
}